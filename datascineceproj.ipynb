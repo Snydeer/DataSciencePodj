{
 "cells": [
  {
   "cell_type": "code",
   "execution_count": 1,
   "id": "8d6f3dc0",
   "metadata": {
    "execution": {
     "iopub.execute_input": "2024-04-17T07:45:29.079350Z",
     "iopub.status.busy": "2024-04-17T07:45:29.078951Z",
     "iopub.status.idle": "2024-04-17T07:45:31.659083Z",
     "shell.execute_reply": "2024-04-17T07:45:31.657659Z"
    },
    "papermill": {
     "duration": 2.597567,
     "end_time": "2024-04-17T07:45:31.661965",
     "exception": false,
     "start_time": "2024-04-17T07:45:29.064398",
     "status": "completed"
    },
    "tags": []
   },
   "outputs": [],
   "source": [
    "import pandas as pd\n",
    "import numpy as np\n",
    "import matplotlib.pyplot as plt\n",
    "import seaborn as sns\n"
   ]
  },
  {
   "cell_type": "code",
   "execution_count": 2,
   "id": "10bc58c0",
   "metadata": {
    "execution": {
     "iopub.execute_input": "2024-04-17T07:45:31.687381Z",
     "iopub.status.busy": "2024-04-17T07:45:31.686780Z",
     "iopub.status.idle": "2024-04-17T07:45:33.648284Z",
     "shell.execute_reply": "2024-04-17T07:45:33.647022Z"
    },
    "papermill": {
     "duration": 1.977298,
     "end_time": "2024-04-17T07:45:33.651176",
     "exception": false,
     "start_time": "2024-04-17T07:45:31.673878",
     "status": "completed"
    },
    "tags": []
   },
   "outputs": [
    {
     "data": {
      "text/html": [
       "<div>\n",
       "<style scoped>\n",
       "    .dataframe tbody tr th:only-of-type {\n",
       "        vertical-align: middle;\n",
       "    }\n",
       "\n",
       "    .dataframe tbody tr th {\n",
       "        vertical-align: top;\n",
       "    }\n",
       "\n",
       "    .dataframe thead th {\n",
       "        text-align: right;\n",
       "    }\n",
       "</style>\n",
       "<table border=\"1\" class=\"dataframe\">\n",
       "  <thead>\n",
       "    <tr style=\"text-align: right;\">\n",
       "      <th></th>\n",
       "      <th>UserID</th>\n",
       "      <th>basket_icon_click</th>\n",
       "      <th>basket_add_list</th>\n",
       "      <th>basket_add_detail</th>\n",
       "      <th>sort_by</th>\n",
       "      <th>image_picker</th>\n",
       "      <th>account_page_click</th>\n",
       "      <th>promo_banner_click</th>\n",
       "      <th>detail_wishlist_add</th>\n",
       "      <th>list_size_dropdown</th>\n",
       "      <th>...</th>\n",
       "      <th>saw_sizecharts</th>\n",
       "      <th>saw_delivery</th>\n",
       "      <th>saw_account_upgrade</th>\n",
       "      <th>saw_homepage</th>\n",
       "      <th>device_mobile</th>\n",
       "      <th>device_computer</th>\n",
       "      <th>device_tablet</th>\n",
       "      <th>returning_user</th>\n",
       "      <th>loc_uk</th>\n",
       "      <th>ordered</th>\n",
       "    </tr>\n",
       "  </thead>\n",
       "  <tbody>\n",
       "    <tr>\n",
       "      <th>0</th>\n",
       "      <td>a720-6b732349-a720-4862-bd21-644732</td>\n",
       "      <td>0</td>\n",
       "      <td>0</td>\n",
       "      <td>0</td>\n",
       "      <td>0</td>\n",
       "      <td>0</td>\n",
       "      <td>0</td>\n",
       "      <td>0</td>\n",
       "      <td>0</td>\n",
       "      <td>0</td>\n",
       "      <td>...</td>\n",
       "      <td>0</td>\n",
       "      <td>0</td>\n",
       "      <td>0</td>\n",
       "      <td>0</td>\n",
       "      <td>1</td>\n",
       "      <td>0</td>\n",
       "      <td>0</td>\n",
       "      <td>0</td>\n",
       "      <td>1</td>\n",
       "      <td>0</td>\n",
       "    </tr>\n",
       "    <tr>\n",
       "      <th>1</th>\n",
       "      <td>a0c0-6b73247c-a0c0-4bd9-8baa-797356</td>\n",
       "      <td>0</td>\n",
       "      <td>0</td>\n",
       "      <td>0</td>\n",
       "      <td>0</td>\n",
       "      <td>0</td>\n",
       "      <td>0</td>\n",
       "      <td>0</td>\n",
       "      <td>0</td>\n",
       "      <td>0</td>\n",
       "      <td>...</td>\n",
       "      <td>0</td>\n",
       "      <td>0</td>\n",
       "      <td>0</td>\n",
       "      <td>0</td>\n",
       "      <td>1</td>\n",
       "      <td>0</td>\n",
       "      <td>0</td>\n",
       "      <td>0</td>\n",
       "      <td>1</td>\n",
       "      <td>0</td>\n",
       "    </tr>\n",
       "    <tr>\n",
       "      <th>2</th>\n",
       "      <td>86a8-6b735c67-86a8-407b-ba24-333055</td>\n",
       "      <td>0</td>\n",
       "      <td>0</td>\n",
       "      <td>0</td>\n",
       "      <td>0</td>\n",
       "      <td>0</td>\n",
       "      <td>0</td>\n",
       "      <td>0</td>\n",
       "      <td>0</td>\n",
       "      <td>0</td>\n",
       "      <td>...</td>\n",
       "      <td>0</td>\n",
       "      <td>0</td>\n",
       "      <td>0</td>\n",
       "      <td>0</td>\n",
       "      <td>1</td>\n",
       "      <td>0</td>\n",
       "      <td>0</td>\n",
       "      <td>1</td>\n",
       "      <td>1</td>\n",
       "      <td>0</td>\n",
       "    </tr>\n",
       "    <tr>\n",
       "      <th>3</th>\n",
       "      <td>6a3d-6b736346-6a3d-4085-934b-396834</td>\n",
       "      <td>0</td>\n",
       "      <td>0</td>\n",
       "      <td>0</td>\n",
       "      <td>0</td>\n",
       "      <td>0</td>\n",
       "      <td>0</td>\n",
       "      <td>0</td>\n",
       "      <td>0</td>\n",
       "      <td>0</td>\n",
       "      <td>...</td>\n",
       "      <td>0</td>\n",
       "      <td>0</td>\n",
       "      <td>0</td>\n",
       "      <td>0</td>\n",
       "      <td>1</td>\n",
       "      <td>0</td>\n",
       "      <td>0</td>\n",
       "      <td>1</td>\n",
       "      <td>1</td>\n",
       "      <td>0</td>\n",
       "    </tr>\n",
       "    <tr>\n",
       "      <th>4</th>\n",
       "      <td>b74a-6b737717-b74a-45c3-8c6a-421140</td>\n",
       "      <td>0</td>\n",
       "      <td>1</td>\n",
       "      <td>0</td>\n",
       "      <td>1</td>\n",
       "      <td>0</td>\n",
       "      <td>0</td>\n",
       "      <td>0</td>\n",
       "      <td>0</td>\n",
       "      <td>1</td>\n",
       "      <td>...</td>\n",
       "      <td>0</td>\n",
       "      <td>0</td>\n",
       "      <td>0</td>\n",
       "      <td>1</td>\n",
       "      <td>0</td>\n",
       "      <td>0</td>\n",
       "      <td>1</td>\n",
       "      <td>0</td>\n",
       "      <td>1</td>\n",
       "      <td>1</td>\n",
       "    </tr>\n",
       "  </tbody>\n",
       "</table>\n",
       "<p>5 rows × 25 columns</p>\n",
       "</div>"
      ],
      "text/plain": [
       "                                UserID  basket_icon_click  basket_add_list  \\\n",
       "0  a720-6b732349-a720-4862-bd21-644732                  0                0   \n",
       "1  a0c0-6b73247c-a0c0-4bd9-8baa-797356                  0                0   \n",
       "2  86a8-6b735c67-86a8-407b-ba24-333055                  0                0   \n",
       "3  6a3d-6b736346-6a3d-4085-934b-396834                  0                0   \n",
       "4  b74a-6b737717-b74a-45c3-8c6a-421140                  0                1   \n",
       "\n",
       "   basket_add_detail  sort_by  image_picker  account_page_click  \\\n",
       "0                  0        0             0                   0   \n",
       "1                  0        0             0                   0   \n",
       "2                  0        0             0                   0   \n",
       "3                  0        0             0                   0   \n",
       "4                  0        1             0                   0   \n",
       "\n",
       "   promo_banner_click  detail_wishlist_add  list_size_dropdown  ...  \\\n",
       "0                   0                    0                   0  ...   \n",
       "1                   0                    0                   0  ...   \n",
       "2                   0                    0                   0  ...   \n",
       "3                   0                    0                   0  ...   \n",
       "4                   0                    0                   1  ...   \n",
       "\n",
       "   saw_sizecharts  saw_delivery  saw_account_upgrade  saw_homepage  \\\n",
       "0               0             0                    0             0   \n",
       "1               0             0                    0             0   \n",
       "2               0             0                    0             0   \n",
       "3               0             0                    0             0   \n",
       "4               0             0                    0             1   \n",
       "\n",
       "   device_mobile  device_computer  device_tablet  returning_user  loc_uk  \\\n",
       "0              1                0              0               0       1   \n",
       "1              1                0              0               0       1   \n",
       "2              1                0              0               1       1   \n",
       "3              1                0              0               1       1   \n",
       "4              0                0              1               0       1   \n",
       "\n",
       "   ordered  \n",
       "0        0  \n",
       "1        0  \n",
       "2        0  \n",
       "3        0  \n",
       "4        1  \n",
       "\n",
       "[5 rows x 25 columns]"
      ]
     },
     "execution_count": 2,
     "metadata": {},
     "output_type": "execute_result"
    }
   ],
   "source": [
    "df = pd.read_csv('/kaggle/input/customer-propensity-to-purchase-data/training_sample.csv')\n",
    "df.head()"
   ]
  },
  {
   "cell_type": "code",
   "execution_count": 3,
   "id": "ce6b2030",
   "metadata": {
    "execution": {
     "iopub.execute_input": "2024-04-17T07:45:33.678973Z",
     "iopub.status.busy": "2024-04-17T07:45:33.678050Z",
     "iopub.status.idle": "2024-04-17T07:45:33.771317Z",
     "shell.execute_reply": "2024-04-17T07:45:33.769971Z"
    },
    "papermill": {
     "duration": 0.110625,
     "end_time": "2024-04-17T07:45:33.774678",
     "exception": false,
     "start_time": "2024-04-17T07:45:33.664053",
     "status": "completed"
    },
    "tags": []
   },
   "outputs": [
    {
     "name": "stdout",
     "output_type": "stream",
     "text": [
      "<class 'pandas.core.frame.DataFrame'>\n",
      "RangeIndex: 455401 entries, 0 to 455400\n",
      "Data columns (total 25 columns):\n",
      " #   Column                   Non-Null Count   Dtype \n",
      "---  ------                   --------------   ----- \n",
      " 0   UserID                   455401 non-null  object\n",
      " 1   basket_icon_click        455401 non-null  int64 \n",
      " 2   basket_add_list          455401 non-null  int64 \n",
      " 3   basket_add_detail        455401 non-null  int64 \n",
      " 4   sort_by                  455401 non-null  int64 \n",
      " 5   image_picker             455401 non-null  int64 \n",
      " 6   account_page_click       455401 non-null  int64 \n",
      " 7   promo_banner_click       455401 non-null  int64 \n",
      " 8   detail_wishlist_add      455401 non-null  int64 \n",
      " 9   list_size_dropdown       455401 non-null  int64 \n",
      " 10  closed_minibasket_click  455401 non-null  int64 \n",
      " 11  checked_delivery_detail  455401 non-null  int64 \n",
      " 12  checked_returns_detail   455401 non-null  int64 \n",
      " 13  sign_in                  455401 non-null  int64 \n",
      " 14  saw_checkout             455401 non-null  int64 \n",
      " 15  saw_sizecharts           455401 non-null  int64 \n",
      " 16  saw_delivery             455401 non-null  int64 \n",
      " 17  saw_account_upgrade      455401 non-null  int64 \n",
      " 18  saw_homepage             455401 non-null  int64 \n",
      " 19  device_mobile            455401 non-null  int64 \n",
      " 20  device_computer          455401 non-null  int64 \n",
      " 21  device_tablet            455401 non-null  int64 \n",
      " 22  returning_user           455401 non-null  int64 \n",
      " 23  loc_uk                   455401 non-null  int64 \n",
      " 24  ordered                  455401 non-null  int64 \n",
      "dtypes: int64(24), object(1)\n",
      "memory usage: 86.9+ MB\n"
     ]
    }
   ],
   "source": [
    "df.info()"
   ]
  },
  {
   "cell_type": "markdown",
   "id": "39790ad3",
   "metadata": {
    "papermill": {
     "duration": 0.014525,
     "end_time": "2024-04-17T07:45:33.802208",
     "exception": false,
     "start_time": "2024-04-17T07:45:33.787683",
     "status": "completed"
    },
    "tags": []
   },
   "source": [
    "We can see that all features contain integers. UseID is not necessary for our predictions so we can drop the column."
   ]
  },
  {
   "cell_type": "code",
   "execution_count": 4,
   "id": "2a899bae",
   "metadata": {
    "execution": {
     "iopub.execute_input": "2024-04-17T07:45:33.828511Z",
     "iopub.status.busy": "2024-04-17T07:45:33.828134Z",
     "iopub.status.idle": "2024-04-17T07:45:33.939075Z",
     "shell.execute_reply": "2024-04-17T07:45:33.937895Z"
    },
    "papermill": {
     "duration": 0.127455,
     "end_time": "2024-04-17T07:45:33.941967",
     "exception": false,
     "start_time": "2024-04-17T07:45:33.814512",
     "status": "completed"
    },
    "tags": []
   },
   "outputs": [
    {
     "data": {
      "text/html": [
       "<div>\n",
       "<style scoped>\n",
       "    .dataframe tbody tr th:only-of-type {\n",
       "        vertical-align: middle;\n",
       "    }\n",
       "\n",
       "    .dataframe tbody tr th {\n",
       "        vertical-align: top;\n",
       "    }\n",
       "\n",
       "    .dataframe thead th {\n",
       "        text-align: right;\n",
       "    }\n",
       "</style>\n",
       "<table border=\"1\" class=\"dataframe\">\n",
       "  <thead>\n",
       "    <tr style=\"text-align: right;\">\n",
       "      <th></th>\n",
       "      <th>UserID</th>\n",
       "      <th>basket_icon_click</th>\n",
       "      <th>basket_add_list</th>\n",
       "      <th>basket_add_detail</th>\n",
       "      <th>sort_by</th>\n",
       "      <th>image_picker</th>\n",
       "      <th>account_page_click</th>\n",
       "      <th>promo_banner_click</th>\n",
       "      <th>detail_wishlist_add</th>\n",
       "      <th>list_size_dropdown</th>\n",
       "      <th>...</th>\n",
       "      <th>saw_sizecharts</th>\n",
       "      <th>saw_delivery</th>\n",
       "      <th>saw_account_upgrade</th>\n",
       "      <th>saw_homepage</th>\n",
       "      <th>device_mobile</th>\n",
       "      <th>device_computer</th>\n",
       "      <th>device_tablet</th>\n",
       "      <th>returning_user</th>\n",
       "      <th>loc_uk</th>\n",
       "      <th>ordered</th>\n",
       "    </tr>\n",
       "  </thead>\n",
       "  <tbody>\n",
       "    <tr>\n",
       "      <th>0</th>\n",
       "      <td>a720-6b732349-a720-4862-bd21-644732</td>\n",
       "      <td>0</td>\n",
       "      <td>0</td>\n",
       "      <td>0</td>\n",
       "      <td>0</td>\n",
       "      <td>0</td>\n",
       "      <td>0</td>\n",
       "      <td>0</td>\n",
       "      <td>0</td>\n",
       "      <td>0</td>\n",
       "      <td>...</td>\n",
       "      <td>0</td>\n",
       "      <td>0</td>\n",
       "      <td>0</td>\n",
       "      <td>0</td>\n",
       "      <td>1</td>\n",
       "      <td>0</td>\n",
       "      <td>0</td>\n",
       "      <td>0</td>\n",
       "      <td>1</td>\n",
       "      <td>0</td>\n",
       "    </tr>\n",
       "    <tr>\n",
       "      <th>1</th>\n",
       "      <td>a0c0-6b73247c-a0c0-4bd9-8baa-797356</td>\n",
       "      <td>0</td>\n",
       "      <td>0</td>\n",
       "      <td>0</td>\n",
       "      <td>0</td>\n",
       "      <td>0</td>\n",
       "      <td>0</td>\n",
       "      <td>0</td>\n",
       "      <td>0</td>\n",
       "      <td>0</td>\n",
       "      <td>...</td>\n",
       "      <td>0</td>\n",
       "      <td>0</td>\n",
       "      <td>0</td>\n",
       "      <td>0</td>\n",
       "      <td>1</td>\n",
       "      <td>0</td>\n",
       "      <td>0</td>\n",
       "      <td>0</td>\n",
       "      <td>1</td>\n",
       "      <td>0</td>\n",
       "    </tr>\n",
       "    <tr>\n",
       "      <th>2</th>\n",
       "      <td>86a8-6b735c67-86a8-407b-ba24-333055</td>\n",
       "      <td>0</td>\n",
       "      <td>0</td>\n",
       "      <td>0</td>\n",
       "      <td>0</td>\n",
       "      <td>0</td>\n",
       "      <td>0</td>\n",
       "      <td>0</td>\n",
       "      <td>0</td>\n",
       "      <td>0</td>\n",
       "      <td>...</td>\n",
       "      <td>0</td>\n",
       "      <td>0</td>\n",
       "      <td>0</td>\n",
       "      <td>0</td>\n",
       "      <td>1</td>\n",
       "      <td>0</td>\n",
       "      <td>0</td>\n",
       "      <td>1</td>\n",
       "      <td>1</td>\n",
       "      <td>0</td>\n",
       "    </tr>\n",
       "    <tr>\n",
       "      <th>3</th>\n",
       "      <td>6a3d-6b736346-6a3d-4085-934b-396834</td>\n",
       "      <td>0</td>\n",
       "      <td>0</td>\n",
       "      <td>0</td>\n",
       "      <td>0</td>\n",
       "      <td>0</td>\n",
       "      <td>0</td>\n",
       "      <td>0</td>\n",
       "      <td>0</td>\n",
       "      <td>0</td>\n",
       "      <td>...</td>\n",
       "      <td>0</td>\n",
       "      <td>0</td>\n",
       "      <td>0</td>\n",
       "      <td>0</td>\n",
       "      <td>1</td>\n",
       "      <td>0</td>\n",
       "      <td>0</td>\n",
       "      <td>1</td>\n",
       "      <td>1</td>\n",
       "      <td>0</td>\n",
       "    </tr>\n",
       "    <tr>\n",
       "      <th>4</th>\n",
       "      <td>b74a-6b737717-b74a-45c3-8c6a-421140</td>\n",
       "      <td>0</td>\n",
       "      <td>1</td>\n",
       "      <td>0</td>\n",
       "      <td>1</td>\n",
       "      <td>0</td>\n",
       "      <td>0</td>\n",
       "      <td>0</td>\n",
       "      <td>0</td>\n",
       "      <td>1</td>\n",
       "      <td>...</td>\n",
       "      <td>0</td>\n",
       "      <td>0</td>\n",
       "      <td>0</td>\n",
       "      <td>1</td>\n",
       "      <td>0</td>\n",
       "      <td>0</td>\n",
       "      <td>1</td>\n",
       "      <td>0</td>\n",
       "      <td>1</td>\n",
       "      <td>1</td>\n",
       "    </tr>\n",
       "  </tbody>\n",
       "</table>\n",
       "<p>5 rows × 25 columns</p>\n",
       "</div>"
      ],
      "text/plain": [
       "                                UserID  basket_icon_click  basket_add_list  \\\n",
       "0  a720-6b732349-a720-4862-bd21-644732                  0                0   \n",
       "1  a0c0-6b73247c-a0c0-4bd9-8baa-797356                  0                0   \n",
       "2  86a8-6b735c67-86a8-407b-ba24-333055                  0                0   \n",
       "3  6a3d-6b736346-6a3d-4085-934b-396834                  0                0   \n",
       "4  b74a-6b737717-b74a-45c3-8c6a-421140                  0                1   \n",
       "\n",
       "   basket_add_detail  sort_by  image_picker  account_page_click  \\\n",
       "0                  0        0             0                   0   \n",
       "1                  0        0             0                   0   \n",
       "2                  0        0             0                   0   \n",
       "3                  0        0             0                   0   \n",
       "4                  0        1             0                   0   \n",
       "\n",
       "   promo_banner_click  detail_wishlist_add  list_size_dropdown  ...  \\\n",
       "0                   0                    0                   0  ...   \n",
       "1                   0                    0                   0  ...   \n",
       "2                   0                    0                   0  ...   \n",
       "3                   0                    0                   0  ...   \n",
       "4                   0                    0                   1  ...   \n",
       "\n",
       "   saw_sizecharts  saw_delivery  saw_account_upgrade  saw_homepage  \\\n",
       "0               0             0                    0             0   \n",
       "1               0             0                    0             0   \n",
       "2               0             0                    0             0   \n",
       "3               0             0                    0             0   \n",
       "4               0             0                    0             1   \n",
       "\n",
       "   device_mobile  device_computer  device_tablet  returning_user  loc_uk  \\\n",
       "0              1                0              0               0       1   \n",
       "1              1                0              0               0       1   \n",
       "2              1                0              0               1       1   \n",
       "3              1                0              0               1       1   \n",
       "4              0                0              1               0       1   \n",
       "\n",
       "   ordered  \n",
       "0        0  \n",
       "1        0  \n",
       "2        0  \n",
       "3        0  \n",
       "4        1  \n",
       "\n",
       "[5 rows x 25 columns]"
      ]
     },
     "execution_count": 4,
     "metadata": {},
     "output_type": "execute_result"
    }
   ],
   "source": [
    "new_df = df.drop('UserID', axis=1)\n",
    "df.head()"
   ]
  },
  {
   "cell_type": "code",
   "execution_count": 5,
   "id": "c78ab748",
   "metadata": {
    "execution": {
     "iopub.execute_input": "2024-04-17T07:45:33.970237Z",
     "iopub.status.busy": "2024-04-17T07:45:33.969844Z",
     "iopub.status.idle": "2024-04-17T07:45:34.498937Z",
     "shell.execute_reply": "2024-04-17T07:45:34.497639Z"
    },
    "jupyter": {
     "source_hidden": true
    },
    "papermill": {
     "duration": 0.546143,
     "end_time": "2024-04-17T07:45:34.501673",
     "exception": false,
     "start_time": "2024-04-17T07:45:33.955530",
     "status": "completed"
    },
    "tags": []
   },
   "outputs": [
    {
     "name": "stdout",
     "output_type": "stream",
     "text": [
      "basket_icon_click:\n",
      "\tPercent missing: 0.0%\n",
      "\tCardinality: 2\n",
      "\tMissing: 0\n",
      "\tmode:0\n",
      "\t2nd mode: 1\n",
      "\tfrequency: 410248\n",
      "\t2ndfrequency: 45153\n",
      "\tmode %: 90.09\n",
      "\t2nd mode %: 9.91\n",
      "basket_add_list:\n",
      "\tPercent missing: 0.0%\n",
      "\tCardinality: 2\n",
      "\tMissing: 0\n",
      "\tmode:0\n",
      "\t2nd mode: 1\n",
      "\tfrequency: 421464\n",
      "\t2ndfrequency: 33937\n",
      "\tmode %: 92.55\n",
      "\t2nd mode %: 7.45\n",
      "basket_add_detail:\n",
      "\tPercent missing: 0.0%\n",
      "\tCardinality: 2\n",
      "\tMissing: 0\n",
      "\tmode:0\n",
      "\t2nd mode: 1\n",
      "\tfrequency: 403979\n",
      "\t2ndfrequency: 51422\n",
      "\tmode %: 88.71\n",
      "\t2nd mode %: 11.29\n",
      "sort_by:\n",
      "\tPercent missing: 0.0%\n",
      "\tCardinality: 2\n",
      "\tMissing: 0\n",
      "\tmode:0\n",
      "\t2nd mode: 1\n",
      "\tfrequency: 438620\n",
      "\t2ndfrequency: 16781\n",
      "\tmode %: 96.32\n",
      "\t2nd mode %: 3.68\n",
      "image_picker:\n",
      "\tPercent missing: 0.0%\n",
      "\tCardinality: 2\n",
      "\tMissing: 0\n",
      "\tmode:0\n",
      "\t2nd mode: 1\n",
      "\tfrequency: 443226\n",
      "\t2ndfrequency: 12175\n",
      "\tmode %: 97.33\n",
      "\t2nd mode %: 2.67\n",
      "account_page_click:\n",
      "\tPercent missing: 0.0%\n",
      "\tCardinality: 2\n",
      "\tMissing: 0\n",
      "\tmode:0\n",
      "\t2nd mode: 1\n",
      "\tfrequency: 453775\n",
      "\t2ndfrequency: 1626\n",
      "\tmode %: 99.64\n",
      "\t2nd mode %: 0.36\n",
      "promo_banner_click:\n",
      "\tPercent missing: 0.0%\n",
      "\tCardinality: 2\n",
      "\tMissing: 0\n",
      "\tmode:0\n",
      "\t2nd mode: 1\n",
      "\tfrequency: 448020\n",
      "\t2ndfrequency: 7381\n",
      "\tmode %: 98.38\n",
      "\t2nd mode %: 1.62\n",
      "detail_wishlist_add:\n",
      "\tPercent missing: 0.0%\n",
      "\tCardinality: 2\n",
      "\tMissing: 0\n",
      "\tmode:0\n",
      "\t2nd mode: 1\n",
      "\tfrequency: 453802\n",
      "\t2ndfrequency: 1599\n",
      "\tmode %: 99.65\n",
      "\t2nd mode %: 0.35\n",
      "list_size_dropdown:\n",
      "\tPercent missing: 0.0%\n",
      "\tCardinality: 2\n",
      "\tMissing: 0\n",
      "\tmode:0\n",
      "\t2nd mode: 1\n",
      "\tfrequency: 350494\n",
      "\t2ndfrequency: 104907\n",
      "\tmode %: 76.96\n",
      "\t2nd mode %: 23.04\n",
      "closed_minibasket_click:\n",
      "\tPercent missing: 0.0%\n",
      "\tCardinality: 2\n",
      "\tMissing: 0\n",
      "\tmode:0\n",
      "\t2nd mode: 1\n",
      "\tfrequency: 447533\n",
      "\t2ndfrequency: 7868\n",
      "\tmode %: 98.27\n",
      "\t2nd mode %: 1.73\n",
      "checked_delivery_detail:\n",
      "\tPercent missing: 0.0%\n",
      "\tCardinality: 2\n",
      "\tMissing: 0\n",
      "\tmode:0\n",
      "\t2nd mode: 1\n",
      "\tfrequency: 426768\n",
      "\t2ndfrequency: 28633\n",
      "\tmode %: 93.71\n",
      "\t2nd mode %: 6.29\n",
      "checked_returns_detail:\n",
      "\tPercent missing: 0.0%\n",
      "\tCardinality: 2\n",
      "\tMissing: 0\n",
      "\tmode:0\n",
      "\t2nd mode: 1\n",
      "\tfrequency: 451221\n",
      "\t2ndfrequency: 4180\n",
      "\tmode %: 99.08\n",
      "\t2nd mode %: 0.92\n",
      "sign_in:\n",
      "\tPercent missing: 0.0%\n",
      "\tCardinality: 2\n",
      "\tMissing: 0\n",
      "\tmode:0\n",
      "\t2nd mode: 1\n",
      "\tfrequency: 414957\n",
      "\t2ndfrequency: 40444\n",
      "\tmode %: 91.12\n",
      "\t2nd mode %: 8.88\n",
      "saw_checkout:\n",
      "\tPercent missing: 0.0%\n",
      "\tCardinality: 2\n",
      "\tMissing: 0\n",
      "\tmode:0\n",
      "\t2nd mode: 1\n",
      "\tfrequency: 418930\n",
      "\t2ndfrequency: 36471\n",
      "\tmode %: 91.99\n",
      "\t2nd mode %: 8.01\n",
      "saw_sizecharts:\n",
      "\tPercent missing: 0.0%\n",
      "\tCardinality: 2\n",
      "\tMissing: 0\n",
      "\tmode:0\n",
      "\t2nd mode: 1\n",
      "\tfrequency: 455224\n",
      "\t2ndfrequency: 177\n",
      "\tmode %: 99.96\n",
      "\t2nd mode %: 0.04\n",
      "saw_delivery:\n",
      "\tPercent missing: 0.0%\n",
      "\tCardinality: 2\n",
      "\tMissing: 0\n",
      "\tmode:0\n",
      "\t2nd mode: 1\n",
      "\tfrequency: 452877\n",
      "\t2ndfrequency: 2524\n",
      "\tmode %: 99.45\n",
      "\t2nd mode %: 0.55\n",
      "saw_account_upgrade:\n",
      "\tPercent missing: 0.0%\n",
      "\tCardinality: 2\n",
      "\tMissing: 0\n",
      "\tmode:0\n",
      "\t2nd mode: 1\n",
      "\tfrequency: 454902\n",
      "\t2ndfrequency: 499\n",
      "\tmode %: 99.89\n",
      "\t2nd mode %: 0.11\n",
      "saw_homepage:\n",
      "\tPercent missing: 0.0%\n",
      "\tCardinality: 2\n",
      "\tMissing: 0\n",
      "\tmode:0\n",
      "\t2nd mode: 1\n",
      "\tfrequency: 323324\n",
      "\t2ndfrequency: 132077\n",
      "\tmode %: 71.0\n",
      "\t2nd mode %: 29.0\n",
      "device_mobile:\n",
      "\tPercent missing: 0.0%\n",
      "\tCardinality: 2\n",
      "\tMissing: 0\n",
      "\tmode:1\n",
      "\t2nd mode: 0\n",
      "\tfrequency: 309994\n",
      "\t2ndfrequency: 145407\n",
      "\tmode %: 68.07\n",
      "\t2nd mode %: 31.93\n",
      "device_computer:\n",
      "\tPercent missing: 0.0%\n",
      "\tCardinality: 2\n",
      "\tMissing: 0\n",
      "\tmode:0\n",
      "\t2nd mode: 1\n",
      "\tfrequency: 366953\n",
      "\t2ndfrequency: 88448\n",
      "\tmode %: 80.58\n",
      "\t2nd mode %: 19.42\n",
      "device_tablet:\n",
      "\tPercent missing: 0.0%\n",
      "\tCardinality: 2\n",
      "\tMissing: 0\n",
      "\tmode:0\n",
      "\t2nd mode: 1\n",
      "\tfrequency: 396944\n",
      "\t2ndfrequency: 58457\n",
      "\tmode %: 87.16\n",
      "\t2nd mode %: 12.84\n",
      "returning_user:\n",
      "\tPercent missing: 0.0%\n",
      "\tCardinality: 2\n",
      "\tMissing: 0\n",
      "\tmode:1\n",
      "\t2nd mode: 0\n",
      "\tfrequency: 243601\n",
      "\t2ndfrequency: 211800\n",
      "\tmode %: 53.49\n",
      "\t2nd mode %: 46.51\n",
      "loc_uk:\n",
      "\tPercent missing: 0.0%\n",
      "\tCardinality: 2\n",
      "\tMissing: 0\n",
      "\tmode:1\n",
      "\t2nd mode: 0\n",
      "\tfrequency: 424991\n",
      "\t2ndfrequency: 30410\n",
      "\tmode %: 93.32\n",
      "\t2nd mode %: 6.68\n",
      "ordered:\n",
      "\tPercent missing: 0.0%\n",
      "\tCardinality: 2\n",
      "\tMissing: 0\n",
      "\tmode:0\n",
      "\t2nd mode: 1\n",
      "\tfrequency: 436308\n",
      "\t2ndfrequency: 19093\n",
      "\tmode %: 95.81\n",
      "\t2nd mode %: 4.19\n"
     ]
    }
   ],
   "source": [
    "mis_vals = []\n",
    "cardinality = []\n",
    "percent_missing = []\n",
    "total = len(df)\n",
    "modes1 = list()\n",
    "modes2 = list()\n",
    "freq1 = list()\n",
    "freq2 = list()\n",
    "mode1_p = list()\n",
    "mode2_p = list()\n",
    "for col in new_df.columns:\n",
    "    missing = df[col].isnull().sum()\n",
    "    mis_vals.append(missing)\n",
    "    card = df[col].nunique()\n",
    "    cardinality.append(card)\n",
    "    percent_miss = round((missing/total)*100,2)\n",
    "    percent_missing.append(percent_miss)\n",
    "    mode1 = df[col].value_counts().index.tolist()[0]\n",
    "    modes1.append(mode1)\n",
    "    mode2 = df[col].value_counts().index.tolist()[1]\n",
    "    modes2.append(mode2)\n",
    "    mode1_freq = df[col].value_counts().tolist()[0]\n",
    "    freq1.append(mode1_freq)\n",
    "    mode2_freq = df[col].value_counts().tolist()[1]\n",
    "    freq2.append(mode2_freq)\n",
    "    mode1_perc = round((mode1_freq/total)*100,2)\n",
    "    mode1_p.append(mode1_perc)\n",
    "    mode2_perc = round((mode2_freq/total)*100,2)\n",
    "    mode2_p.append(mode2_perc)\n",
    "    print(f'{col}:\\n\\tPercent missing: {percent_miss}%'\n",
    "          f'\\n\\tCardinality: {card}'\n",
    "          f'\\n\\tMissing: {missing}'\n",
    "          f'\\n\\tmode:{mode1}'\n",
    "          f'\\n\\t2nd mode: {mode2}'\n",
    "          f'\\n\\tfrequency: {mode1_freq}'\n",
    "          f'\\n\\t2ndfrequency: {mode2_freq}'\n",
    "          f'\\n\\tmode %: {mode1_perc}'\n",
    "          f'\\n\\t2nd mode %: {mode2_perc}')\n",
    "    "
   ]
  },
  {
   "cell_type": "code",
   "execution_count": 6,
   "id": "d9badc42",
   "metadata": {
    "execution": {
     "iopub.execute_input": "2024-04-17T07:45:34.531053Z",
     "iopub.status.busy": "2024-04-17T07:45:34.530304Z",
     "iopub.status.idle": "2024-04-17T07:45:34.538947Z",
     "shell.execute_reply": "2024-04-17T07:45:34.537830Z"
    },
    "jupyter": {
     "source_hidden": true
    },
    "papermill": {
     "duration": 0.026004,
     "end_time": "2024-04-17T07:45:34.541490",
     "exception": false,
     "start_time": "2024-04-17T07:45:34.515486",
     "status": "completed"
    },
    "tags": []
   },
   "outputs": [
    {
     "data": {
      "text/plain": [
       "'columns = [\\'Feature\\', \\'Count\\', \\'% of Missing\\', \\'Cardinality\\', \\'Mode\\', \\'Mode Frequency\\', \\'Mode %\\', \\'2nd Mode\\', \\'2nd Mode Frequency\\', \\'2nd Mode %\\']\\nfeatures = new_df.columns\\n\\nprint(\"DATA QUALITY REPORT\")\\n\\ndqr = pd.read_csv(\\'/kaggle/input/dqr-template-file/dqr.csv\\', names=columns)\\nfor item in dqr:\\n    for i in range(len(features)):\\n        if item == \\'Feature\\':\\n            dqr.loc[i:i,item] = features[i]\\n        elif item == \\'Count\\':\\n            dqr.loc[i:i,item] = len(df[features[i]])\\n        elif item == \\'% of Missing\\':\\n            dqr.loc[i:i,item] = percent_missing[i]\\n        elif item == \\'Cardinality\\':\\n            dqr.loc[i:i,item] = cardinality[i]\\n        elif item == \\'Mode\\':\\n            dqr.loc[i:i,item] = modes1[i]\\n        elif item == \\'Mode Frequency\\':\\n            dqr.loc[i:i,item] = freq1[i]\\n        elif item == \\'Mode %\\':\\n            dqr.loc[i:i,item] = mode1_p[i]\\n        elif item == \\'2nd Mode\\':\\n            dqr.loc[i:i,item] = modes2[i]\\n        elif item == \\'2nd Mode Frequency\\':\\n            dqr.loc[i:i,item] = freq2[i]\\n        elif item == \\'2nd Mode %\\':\\n            dqr.loc[i:i,item] = mode2_p[i]\\ndqr'"
      ]
     },
     "execution_count": 6,
     "metadata": {},
     "output_type": "execute_result"
    }
   ],
   "source": [
    "\"\"\"columns = ['Feature', 'Count', '% of Missing', 'Cardinality', 'Mode', 'Mode Frequency', 'Mode %', '2nd Mode', '2nd Mode Frequency', '2nd Mode %']\n",
    "features = new_df.columns\n",
    "\n",
    "print(\"DATA QUALITY REPORT\")\n",
    "\n",
    "dqr = pd.read_csv('/kaggle/input/dqr-template-file/dqr.csv', names=columns)\n",
    "for item in dqr:\n",
    "    for i in range(len(features)):\n",
    "        if item == 'Feature':\n",
    "            dqr.loc[i:i,item] = features[i]\n",
    "        elif item == 'Count':\n",
    "            dqr.loc[i:i,item] = len(df[features[i]])\n",
    "        elif item == '% of Missing':\n",
    "            dqr.loc[i:i,item] = percent_missing[i]\n",
    "        elif item == 'Cardinality':\n",
    "            dqr.loc[i:i,item] = cardinality[i]\n",
    "        elif item == 'Mode':\n",
    "            dqr.loc[i:i,item] = modes1[i]\n",
    "        elif item == 'Mode Frequency':\n",
    "            dqr.loc[i:i,item] = freq1[i]\n",
    "        elif item == 'Mode %':\n",
    "            dqr.loc[i:i,item] = mode1_p[i]\n",
    "        elif item == '2nd Mode':\n",
    "            dqr.loc[i:i,item] = modes2[i]\n",
    "        elif item == '2nd Mode Frequency':\n",
    "            dqr.loc[i:i,item] = freq2[i]\n",
    "        elif item == '2nd Mode %':\n",
    "            dqr.loc[i:i,item] = mode2_p[i]\n",
    "dqr\"\"\""
   ]
  },
  {
   "cell_type": "markdown",
   "id": "0545d4bc",
   "metadata": {
    "papermill": {
     "duration": 0.012997,
     "end_time": "2024-04-17T07:45:34.569525",
     "exception": false,
     "start_time": "2024-04-17T07:45:34.556528",
     "status": "completed"
    },
    "tags": []
   },
   "source": [
    "Every feature's cardinality is 2 so we know that the value is either 0 or 1, therefore no normalization is needed and no outliers are present."
   ]
  },
  {
   "cell_type": "markdown",
   "id": "4405b991",
   "metadata": {
    "papermill": {
     "duration": 0.012995,
     "end_time": "2024-04-17T07:45:34.595825",
     "exception": false,
     "start_time": "2024-04-17T07:45:34.582830",
     "status": "completed"
    },
    "tags": []
   },
   "source": [
    "Next, let's try to filter out unimportant features using the Chi-Square test."
   ]
  },
  {
   "cell_type": "code",
   "execution_count": 7,
   "id": "c6f700d7",
   "metadata": {
    "execution": {
     "iopub.execute_input": "2024-04-17T07:45:34.624736Z",
     "iopub.status.busy": "2024-04-17T07:45:34.624324Z",
     "iopub.status.idle": "2024-04-17T07:45:35.502222Z",
     "shell.execute_reply": "2024-04-17T07:45:35.500948Z"
    },
    "papermill": {
     "duration": 0.895444,
     "end_time": "2024-04-17T07:45:35.505007",
     "exception": false,
     "start_time": "2024-04-17T07:45:34.609563",
     "status": "completed"
    },
    "tags": []
   },
   "outputs": [
    {
     "data": {
      "text/plain": [
       "(array([7.52682557e+04, 3.48768184e+04, 6.93808424e+04, 1.30931917e+03,\n",
       "        2.26537987e+03, 1.48878713e+03, 1.43184576e+03, 2.50964113e+02,\n",
       "        8.40617614e+03, 8.77307552e+03, 2.72258524e+05, 1.59656129e+03,\n",
       "        1.83811194e+05, 2.10579577e+05, 2.59353867e+01, 4.48252173e+02,\n",
       "        3.04151149e+02, 8.04875863e+03, 2.67689696e+02, 8.88563693e+02,\n",
       "        1.13898313e+02, 7.69984766e+02, 3.04483250e+01]),\n",
       " array([0.00000000e+000, 0.00000000e+000, 0.00000000e+000, 1.06669420e-286,\n",
       "        0.00000000e+000, 0.00000000e+000, 0.00000000e+000, 1.60050059e-056,\n",
       "        0.00000000e+000, 0.00000000e+000, 0.00000000e+000, 0.00000000e+000,\n",
       "        0.00000000e+000, 0.00000000e+000, 3.53037795e-007, 1.73178032e-099,\n",
       "        4.10578356e-068, 0.00000000e+000, 3.61774346e-060, 3.00575781e-195,\n",
       "        1.37165290e-026, 1.81162860e-169, 3.42879262e-008]))"
      ]
     },
     "execution_count": 7,
     "metadata": {},
     "output_type": "execute_result"
    }
   ],
   "source": [
    "from sklearn.feature_selection import chi2\n",
    "\n",
    "X = new_df.drop(columns='ordered')\n",
    "y = new_df['ordered']\n",
    "\n",
    "chi_scores = chi2(X,y)\n",
    "\n",
    "chi_scores"
   ]
  },
  {
   "cell_type": "code",
   "execution_count": 8,
   "id": "ff6e733b",
   "metadata": {
    "collapsed": true,
    "execution": {
     "iopub.execute_input": "2024-04-17T07:45:35.535996Z",
     "iopub.status.busy": "2024-04-17T07:45:35.534720Z",
     "iopub.status.idle": "2024-04-17T07:45:36.394037Z",
     "shell.execute_reply": "2024-04-17T07:45:36.392866Z"
    },
    "jupyter": {
     "outputs_hidden": true
    },
    "papermill": {
     "duration": 0.877771,
     "end_time": "2024-04-17T07:45:36.396691",
     "exception": false,
     "start_time": "2024-04-17T07:45:35.518920",
     "status": "completed"
    },
    "tags": []
   },
   "outputs": [
    {
     "data": {
      "image/png": "[encoded data removed]",
      "text/plain": [
       "<Figure size 640x480 with 1 Axes>"
      ]
     },
     "metadata": {},
     "output_type": "display_data"
    },
    {
     "data": {
      "image/png": "[encoded data removed]",
      "text/plain": [
       "<Figure size 640x480 with 1 Axes>"
      ]
     },
     "metadata": {},
     "output_type": "display_data"
    }
   ],
   "source": [
    "chi_values = pd.Series(chi_scores[0], index=X.columns)\n",
    "chi_values.sort_values(ascending=False, inplace=True)\n",
    "p_values = pd.Series(chi_scores[1], index=X.columns)\n",
    "p_values.sort_values(ascending=False, inplace=True)\n",
    "chi_values.plot.bar()\n",
    "plt.title(\"Chi-Values\")\n",
    "plt.show()\n",
    "p_values.plot.bar()\n",
    "plt.title(\"P-Values\")\n",
    "plt.show()"
   ]
  },
  {
   "cell_type": "markdown",
   "id": "327cd07b",
   "metadata": {
    "papermill": {
     "duration": 0.015209,
     "end_time": "2024-04-17T07:45:36.427420",
     "exception": false,
     "start_time": "2024-04-17T07:45:36.412211",
     "status": "completed"
    },
    "tags": []
   },
   "source": [
    "'saw_sizecharts', 'loc_uk', and 'device_tablet' are the top 3 unimportant features so we will drop these.\n",
    "\n",
    "The device features also scored on the unimportant side, and they don't matter much for what we are trying to build our models upon so we will drop these too."
   ]
  },
  {
   "cell_type": "code",
   "execution_count": 9,
   "id": "99e2464d",
   "metadata": {
    "execution": {
     "iopub.execute_input": "2024-04-17T07:45:36.460091Z",
     "iopub.status.busy": "2024-04-17T07:45:36.459644Z",
     "iopub.status.idle": "2024-04-17T07:45:36.493919Z",
     "shell.execute_reply": "2024-04-17T07:45:36.492864Z"
    },
    "papermill": {
     "duration": 0.053884,
     "end_time": "2024-04-17T07:45:36.496637",
     "exception": false,
     "start_time": "2024-04-17T07:45:36.442753",
     "status": "completed"
    },
    "tags": []
   },
   "outputs": [],
   "source": [
    "drop_cols=['saw_sizecharts','loc_uk','device_tablet','device_mobile','device_computer']\n",
    "new_df = new_df.drop(columns=drop_cols)"
   ]
  },
  {
   "cell_type": "code",
   "execution_count": 10,
   "id": "ad2888fc",
   "metadata": {
    "execution": {
     "iopub.execute_input": "2024-04-17T07:45:36.529393Z",
     "iopub.status.busy": "2024-04-17T07:45:36.528977Z",
     "iopub.status.idle": "2024-04-17T07:45:36.547006Z",
     "shell.execute_reply": "2024-04-17T07:45:36.545982Z"
    },
    "papermill": {
     "duration": 0.037001,
     "end_time": "2024-04-17T07:45:36.549377",
     "exception": false,
     "start_time": "2024-04-17T07:45:36.512376",
     "status": "completed"
    },
    "tags": []
   },
   "outputs": [
    {
     "data": {
      "text/html": [
       "<div>\n",
       "<style scoped>\n",
       "    .dataframe tbody tr th:only-of-type {\n",
       "        vertical-align: middle;\n",
       "    }\n",
       "\n",
       "    .dataframe tbody tr th {\n",
       "        vertical-align: top;\n",
       "    }\n",
       "\n",
       "    .dataframe thead th {\n",
       "        text-align: right;\n",
       "    }\n",
       "</style>\n",
       "<table border=\"1\" class=\"dataframe\">\n",
       "  <thead>\n",
       "    <tr style=\"text-align: right;\">\n",
       "      <th></th>\n",
       "      <th>basket_icon_click</th>\n",
       "      <th>basket_add_list</th>\n",
       "      <th>basket_add_detail</th>\n",
       "      <th>sort_by</th>\n",
       "      <th>image_picker</th>\n",
       "      <th>account_page_click</th>\n",
       "      <th>promo_banner_click</th>\n",
       "      <th>detail_wishlist_add</th>\n",
       "      <th>list_size_dropdown</th>\n",
       "      <th>closed_minibasket_click</th>\n",
       "      <th>checked_delivery_detail</th>\n",
       "      <th>checked_returns_detail</th>\n",
       "      <th>sign_in</th>\n",
       "      <th>saw_checkout</th>\n",
       "      <th>saw_delivery</th>\n",
       "      <th>saw_account_upgrade</th>\n",
       "      <th>saw_homepage</th>\n",
       "      <th>returning_user</th>\n",
       "      <th>ordered</th>\n",
       "    </tr>\n",
       "  </thead>\n",
       "  <tbody>\n",
       "    <tr>\n",
       "      <th>0</th>\n",
       "      <td>0</td>\n",
       "      <td>0</td>\n",
       "      <td>0</td>\n",
       "      <td>0</td>\n",
       "      <td>0</td>\n",
       "      <td>0</td>\n",
       "      <td>0</td>\n",
       "      <td>0</td>\n",
       "      <td>0</td>\n",
       "      <td>0</td>\n",
       "      <td>1</td>\n",
       "      <td>0</td>\n",
       "      <td>0</td>\n",
       "      <td>0</td>\n",
       "      <td>0</td>\n",
       "      <td>0</td>\n",
       "      <td>0</td>\n",
       "      <td>0</td>\n",
       "      <td>0</td>\n",
       "    </tr>\n",
       "    <tr>\n",
       "      <th>1</th>\n",
       "      <td>0</td>\n",
       "      <td>0</td>\n",
       "      <td>0</td>\n",
       "      <td>0</td>\n",
       "      <td>0</td>\n",
       "      <td>0</td>\n",
       "      <td>0</td>\n",
       "      <td>0</td>\n",
       "      <td>0</td>\n",
       "      <td>0</td>\n",
       "      <td>0</td>\n",
       "      <td>0</td>\n",
       "      <td>0</td>\n",
       "      <td>0</td>\n",
       "      <td>0</td>\n",
       "      <td>0</td>\n",
       "      <td>0</td>\n",
       "      <td>0</td>\n",
       "      <td>0</td>\n",
       "    </tr>\n",
       "    <tr>\n",
       "      <th>2</th>\n",
       "      <td>0</td>\n",
       "      <td>0</td>\n",
       "      <td>0</td>\n",
       "      <td>0</td>\n",
       "      <td>0</td>\n",
       "      <td>0</td>\n",
       "      <td>0</td>\n",
       "      <td>0</td>\n",
       "      <td>0</td>\n",
       "      <td>0</td>\n",
       "      <td>0</td>\n",
       "      <td>0</td>\n",
       "      <td>0</td>\n",
       "      <td>0</td>\n",
       "      <td>0</td>\n",
       "      <td>0</td>\n",
       "      <td>0</td>\n",
       "      <td>1</td>\n",
       "      <td>0</td>\n",
       "    </tr>\n",
       "    <tr>\n",
       "      <th>3</th>\n",
       "      <td>0</td>\n",
       "      <td>0</td>\n",
       "      <td>0</td>\n",
       "      <td>0</td>\n",
       "      <td>0</td>\n",
       "      <td>0</td>\n",
       "      <td>0</td>\n",
       "      <td>0</td>\n",
       "      <td>0</td>\n",
       "      <td>0</td>\n",
       "      <td>0</td>\n",
       "      <td>0</td>\n",
       "      <td>0</td>\n",
       "      <td>0</td>\n",
       "      <td>0</td>\n",
       "      <td>0</td>\n",
       "      <td>0</td>\n",
       "      <td>1</td>\n",
       "      <td>0</td>\n",
       "    </tr>\n",
       "    <tr>\n",
       "      <th>4</th>\n",
       "      <td>0</td>\n",
       "      <td>1</td>\n",
       "      <td>0</td>\n",
       "      <td>1</td>\n",
       "      <td>0</td>\n",
       "      <td>0</td>\n",
       "      <td>0</td>\n",
       "      <td>0</td>\n",
       "      <td>1</td>\n",
       "      <td>0</td>\n",
       "      <td>1</td>\n",
       "      <td>0</td>\n",
       "      <td>1</td>\n",
       "      <td>1</td>\n",
       "      <td>0</td>\n",
       "      <td>0</td>\n",
       "      <td>1</td>\n",
       "      <td>0</td>\n",
       "      <td>1</td>\n",
       "    </tr>\n",
       "  </tbody>\n",
       "</table>\n",
       "</div>"
      ],
      "text/plain": [
       "   basket_icon_click  basket_add_list  basket_add_detail  sort_by  \\\n",
       "0                  0                0                  0        0   \n",
       "1                  0                0                  0        0   \n",
       "2                  0                0                  0        0   \n",
       "3                  0                0                  0        0   \n",
       "4                  0                1                  0        1   \n",
       "\n",
       "   image_picker  account_page_click  promo_banner_click  detail_wishlist_add  \\\n",
       "0             0                   0                   0                    0   \n",
       "1             0                   0                   0                    0   \n",
       "2             0                   0                   0                    0   \n",
       "3             0                   0                   0                    0   \n",
       "4             0                   0                   0                    0   \n",
       "\n",
       "   list_size_dropdown  closed_minibasket_click  checked_delivery_detail  \\\n",
       "0                   0                        0                        1   \n",
       "1                   0                        0                        0   \n",
       "2                   0                        0                        0   \n",
       "3                   0                        0                        0   \n",
       "4                   1                        0                        1   \n",
       "\n",
       "   checked_returns_detail  sign_in  saw_checkout  saw_delivery  \\\n",
       "0                       0        0             0             0   \n",
       "1                       0        0             0             0   \n",
       "2                       0        0             0             0   \n",
       "3                       0        0             0             0   \n",
       "4                       0        1             1             0   \n",
       "\n",
       "   saw_account_upgrade  saw_homepage  returning_user  ordered  \n",
       "0                    0             0               0        0  \n",
       "1                    0             0               0        0  \n",
       "2                    0             0               1        0  \n",
       "3                    0             0               1        0  \n",
       "4                    0             1               0        1  "
      ]
     },
     "execution_count": 10,
     "metadata": {},
     "output_type": "execute_result"
    }
   ],
   "source": [
    "new_df.head()"
   ]
  },
  {
   "cell_type": "code",
   "execution_count": 11,
   "id": "13989e2f",
   "metadata": {
    "execution": {
     "iopub.execute_input": "2024-04-17T07:45:36.582846Z",
     "iopub.status.busy": "2024-04-17T07:45:36.582431Z",
     "iopub.status.idle": "2024-04-17T07:45:36.669662Z",
     "shell.execute_reply": "2024-04-17T07:45:36.668575Z"
    },
    "papermill": {
     "duration": 0.107033,
     "end_time": "2024-04-17T07:45:36.672385",
     "exception": false,
     "start_time": "2024-04-17T07:45:36.565352",
     "status": "completed"
    },
    "tags": []
   },
   "outputs": [],
   "source": [
    "ordered = new_df[new_df['ordered'] ==  1]\n",
    "not_ordered = new_df[new_df['ordered'] == 0]"
   ]
  },
  {
   "cell_type": "markdown",
   "id": "9652f890",
   "metadata": {
    "papermill": {
     "duration": 0.015318,
     "end_time": "2024-04-17T07:45:36.703678",
     "exception": false,
     "start_time": "2024-04-17T07:45:36.688360",
     "status": "completed"
    },
    "tags": []
   },
   "source": [
    "Creating an undersampled dataset from training data. All records from class 1 of ordered included in each training subset, and a random selection of an equal amount from class 0 for a 50/50 split. "
   ]
  },
  {
   "cell_type": "code",
   "execution_count": 12,
   "id": "6ec3ef71",
   "metadata": {
    "execution": {
     "iopub.execute_input": "2024-04-17T07:45:36.737588Z",
     "iopub.status.busy": "2024-04-17T07:45:36.737172Z",
     "iopub.status.idle": "2024-04-17T07:45:36.929530Z",
     "shell.execute_reply": "2024-04-17T07:45:36.928488Z"
    },
    "papermill": {
     "duration": 0.212314,
     "end_time": "2024-04-17T07:45:36.932351",
     "exception": false,
     "start_time": "2024-04-17T07:45:36.720037",
     "status": "completed"
    },
    "tags": []
   },
   "outputs": [],
   "source": [
    "from sklearn.model_selection import train_test_split  \n",
    "\n",
    "X = new_df.drop(['ordered'], axis=1) \n",
    "y = new_df['ordered'] \n",
    "\n",
    "X_train, X_test, y_train, y_test = train_test_split(X, y, test_size=0.2, random_state=42)"
   ]
  },
  {
   "cell_type": "code",
   "execution_count": 13,
   "id": "66a9d267",
   "metadata": {
    "execution": {
     "iopub.execute_input": "2024-04-17T07:45:36.966324Z",
     "iopub.status.busy": "2024-04-17T07:45:36.965563Z",
     "iopub.status.idle": "2024-04-17T07:45:36.977838Z",
     "shell.execute_reply": "2024-04-17T07:45:36.976648Z"
    },
    "papermill": {
     "duration": 0.032009,
     "end_time": "2024-04-17T07:45:36.980367",
     "exception": false,
     "start_time": "2024-04-17T07:45:36.948358",
     "status": "completed"
    },
    "tags": []
   },
   "outputs": [
    {
     "data": {
      "text/plain": [
       "ordered\n",
       "0    349013\n",
       "1     15307\n",
       "Name: count, dtype: int64"
      ]
     },
     "execution_count": 13,
     "metadata": {},
     "output_type": "execute_result"
    }
   ],
   "source": [
    "y_train.value_counts()"
   ]
  },
  {
   "cell_type": "markdown",
   "id": "8040662e",
   "metadata": {
    "papermill": {
     "duration": 0.015889,
     "end_time": "2024-04-17T07:45:37.012429",
     "exception": false,
     "start_time": "2024-04-17T07:45:36.996540",
     "status": "completed"
    },
    "tags": []
   },
   "source": [
    "# KFold And Undersampling Function"
   ]
  },
  {
   "cell_type": "code",
   "execution_count": 14,
   "id": "f325312a",
   "metadata": {
    "execution": {
     "iopub.execute_input": "2024-04-17T07:45:37.046698Z",
     "iopub.status.busy": "2024-04-17T07:45:37.046322Z",
     "iopub.status.idle": "2024-04-17T07:45:37.325413Z",
     "shell.execute_reply": "2024-04-17T07:45:37.324283Z"
    },
    "papermill": {
     "duration": 0.299551,
     "end_time": "2024-04-17T07:45:37.328222",
     "exception": false,
     "start_time": "2024-04-17T07:45:37.028671",
     "status": "completed"
    },
    "tags": []
   },
   "outputs": [],
   "source": [
    "import numpy as np\n",
    "from sklearn.model_selection import KFold\n",
    "from imblearn.under_sampling import RandomUnderSampler\n",
    "from sklearn.ensemble import RandomForestClassifier\n",
    "from sklearn.metrics import *\n",
    "\n",
    "def score_model(model, X_train, y_train, params=None, cv=None):\n",
    "    \"\"\"\n",
    "    Creates folds manually, and undersamples within each fold.\n",
    "    Returns an array of validation (recall) scores\n",
    "    \"\"\"\n",
    "    if cv is None:\n",
    "        cv = KFold(n_splits=5, shuffle=True, random_state=42)\n",
    "   \n",
    "    recall_scores, f1_scores, acc_scores, roc_scores = [], [], [], []\n",
    "\n",
    "    for train_fold_index, val_fold_index in cv.split(X_train, y_train):\n",
    "        # the training data\n",
    "        X_train_fold, y_train_fold = X_train.iloc[train_fold_index], y_train.iloc[train_fold_index]\n",
    "        # the validation data\n",
    "        X_val_fold, y_val_fold = X_train.iloc[val_fold_index], y_train.iloc[val_fold_index]\n",
    "        \n",
    "        class_count = np.count_nonzero(y_train_fold == 1) \n",
    "        \n",
    "        sampling_strategy = {0:class_count, 1:class_count}\n",
    "        \n",
    "        rus = RandomUnderSampler(sampling_strategy=sampling_strategy, random_state=42)\n",
    "    \n",
    "        # Undersample only the data in the training section\n",
    "        X_train_fold_undersample, y_train_fold_undersample = rus.fit_resample(X_train_fold, y_train_fold)\n",
    "        \n",
    "        #print(y_train_fold_undersample.value_counts())\n",
    "        \n",
    "        # Fit the model on the undersampled training data\n",
    "        model_obj = model(**params).fit(X_train_fold_undersample, y_train_fold_undersample)\n",
    "        \n",
    "        # Score the model on the (non-undersampled) validation data\n",
    "        pred = model_obj.predict(X_val_fold)\n",
    "        pred_prob = model_obj.predict_proba(X_val_fold)[:,1]\n",
    "        \n",
    "        rc_score = recall_score(y_val_fold, pred)\n",
    "        f_score = f1_score(y_val_fold, pred)\n",
    "        acc_score = accuracy_score(y_val_fold, pred)\n",
    "        auc_score = roc_auc_score(y_val_fold, pred_prob)\n",
    "        \n",
    "        recall_scores.append(rc_score)\n",
    "        f1_scores.append(f_score)\n",
    "        acc_scores.append(acc_score)\n",
    "        roc_scores.append(auc_score)\n",
    "    return np.array(recall_scores), np.array(f1_scores), np.array(acc_scores), np.array(roc_scores)"
   ]
  },
  {
   "cell_type": "markdown",
   "id": "b7a13255",
   "metadata": {
    "papermill": {
     "duration": 0.015864,
     "end_time": "2024-04-17T07:45:37.360600",
     "exception": false,
     "start_time": "2024-04-17T07:45:37.344736",
     "status": "completed"
    },
    "tags": []
   },
   "source": [
    "# Hyper Parameterization Function"
   ]
  },
  {
   "cell_type": "code",
   "execution_count": 15,
   "id": "584a5bc1",
   "metadata": {
    "execution": {
     "iopub.execute_input": "2024-04-17T07:45:37.394976Z",
     "iopub.status.busy": "2024-04-17T07:45:37.394340Z",
     "iopub.status.idle": "2024-04-17T07:45:37.409963Z",
     "shell.execute_reply": "2024-04-17T07:45:37.409055Z"
    },
    "papermill": {
     "duration": 0.035921,
     "end_time": "2024-04-17T07:45:37.412622",
     "exception": false,
     "start_time": "2024-04-17T07:45:37.376701",
     "status": "completed"
    },
    "tags": []
   },
   "outputs": [],
   "source": [
    "from sklearn.ensemble import RandomForestClassifier, AdaBoostClassifier\n",
    "from sklearn.naive_bayes import BernoulliNB\n",
    "\n",
    "def param_optimizer(model, params, X_train, y_train):\n",
    "    score_tracker = []\n",
    "    for p1 in params['p1']:\n",
    "        for p2 in params['p2']:\n",
    "            if model == RandomForestClassifier:\n",
    "                _params = {\n",
    "                    'n_estimators': p1,\n",
    "                    'max_depth': p2,\n",
    "                    'random_state': 13\n",
    "                }\n",
    "            elif model == AdaBoostClassifier:\n",
    "                _params = {\n",
    "                    'n_estimators': p1,\n",
    "                    'learning_rate': p2,\n",
    "                    'random_state': 13\n",
    "                }\n",
    "            elif model == BernoulliNB:\n",
    "                _params = {\n",
    "                    'alpha': p1,\n",
    "                    'fit_prior': p2\n",
    "                }\n",
    "            _params['recall'], _params['f1'], _params['acc'], _params['roc'] = score_model(model, X_train, y_train, _params)\n",
    "            \n",
    "            _params['recall'] = _params['recall'].mean() \n",
    "            _params['f1'] = _params['f1'].mean()\n",
    "            _params['acc'] = _params['acc'].mean()\n",
    "            _params['roc'] = _params['roc'].mean()\n",
    "            \n",
    "            \n",
    "            score_tracker.append(_params)\n",
    "            \n",
    "    def best_model(metric):\n",
    "        return sorted(score_tracker, key=lambda x: x[metric], reverse=True)[0]\n",
    "    \n",
    "    # What's the best model?\n",
    "    return best_model('recall'),best_model('f1'),best_model('acc'),best_model('roc')\n"
   ]
  },
  {
   "cell_type": "markdown",
   "id": "a4ec273f",
   "metadata": {
    "papermill": {
     "duration": 0.016091,
     "end_time": "2024-04-17T07:45:37.445032",
     "exception": false,
     "start_time": "2024-04-17T07:45:37.428941",
     "status": "completed"
    },
    "tags": []
   },
   "source": [
    "### RandomForest Hyper-Parameterization"
   ]
  },
  {
   "cell_type": "code",
   "execution_count": 16,
   "id": "da8fd26a",
   "metadata": {
    "execution": {
     "iopub.execute_input": "2024-04-17T07:45:37.479627Z",
     "iopub.status.busy": "2024-04-17T07:45:37.478634Z",
     "iopub.status.idle": "2024-04-17T07:47:50.947367Z",
     "shell.execute_reply": "2024-04-17T07:47:50.946063Z"
    },
    "papermill": {
     "duration": 133.504581,
     "end_time": "2024-04-17T07:47:50.965896",
     "exception": false,
     "start_time": "2024-04-17T07:45:37.461315",
     "status": "completed"
    },
    "tags": []
   },
   "outputs": [
    {
     "data": {
      "text/plain": [
       "({'n_estimators': 50,\n",
       "  'max_depth': 4,\n",
       "  'random_state': 13,\n",
       "  'recall': 0.9953737536228319,\n",
       "  'f1': 0.8457919681001995,\n",
       "  'acc': 0.984705753184014,\n",
       "  'roc': 0.997052047771},\n",
       " {'n_estimators': 100,\n",
       "  'max_depth': 6,\n",
       "  'random_state': 13,\n",
       "  'recall': 0.9924921630953227,\n",
       "  'f1': 0.903750320827033,\n",
       "  'acc': 0.991114953886693,\n",
       "  'roc': 0.9971866215272038},\n",
       " {'n_estimators': 100,\n",
       "  'max_depth': 6,\n",
       "  'random_state': 13,\n",
       "  'recall': 0.9924921630953227,\n",
       "  'f1': 0.903750320827033,\n",
       "  'acc': 0.991114953886693,\n",
       "  'roc': 0.9971866215272038},\n",
       " {'n_estimators': 50,\n",
       "  'max_depth': 6,\n",
       "  'random_state': 13,\n",
       "  'recall': 0.9929533846410907,\n",
       "  'f1': 0.8950478796419084,\n",
       "  'acc': 0.9902119016249451,\n",
       "  'roc': 0.9971961914627135})"
      ]
     },
     "execution_count": 16,
     "metadata": {},
     "output_type": "execute_result"
    }
   ],
   "source": [
    "rf_params = {\n",
    "    'p1': [50, 100, 200],\n",
    "    'p2': [4, 6, 10, 12],\n",
    "}\n",
    "\n",
    "param_optimizer(RandomForestClassifier, rf_params, X_train, y_train)\n",
    "\n",
    "# This output shows the best parameters to use based on\n",
    "# specific metrics. Outputs are in this order: recall score,\n",
    "# f1 score, accuracy score, roc score."
   ]
  },
  {
   "cell_type": "markdown",
   "id": "8f90ace7",
   "metadata": {
    "papermill": {
     "duration": 0.016173,
     "end_time": "2024-04-17T07:47:50.998162",
     "exception": false,
     "start_time": "2024-04-17T07:47:50.981989",
     "status": "completed"
    },
    "tags": []
   },
   "source": [
    "### LogisticRegression"
   ]
  },
  {
   "cell_type": "markdown",
   "id": "9aa74042",
   "metadata": {
    "papermill": {
     "duration": 0.015942,
     "end_time": "2024-04-17T07:47:51.030247",
     "exception": false,
     "start_time": "2024-04-17T07:47:51.014305",
     "status": "completed"
    },
    "tags": []
   },
   "source": [
    "Does not need Hyper-parameterization"
   ]
  },
  {
   "cell_type": "markdown",
   "id": "0078b4e8",
   "metadata": {
    "papermill": {
     "duration": 0.015912,
     "end_time": "2024-04-17T07:47:51.062302",
     "exception": false,
     "start_time": "2024-04-17T07:47:51.046390",
     "status": "completed"
    },
    "tags": []
   },
   "source": [
    "### AdaBoost Hyper-Parameterization"
   ]
  },
  {
   "cell_type": "code",
   "execution_count": 17,
   "id": "ca6d3b10",
   "metadata": {
    "execution": {
     "iopub.execute_input": "2024-04-17T07:47:51.096593Z",
     "iopub.status.busy": "2024-04-17T07:47:51.096220Z",
     "iopub.status.idle": "2024-04-17T07:51:50.458703Z",
     "shell.execute_reply": "2024-04-17T07:51:50.457077Z"
    },
    "papermill": {
     "duration": 239.407292,
     "end_time": "2024-04-17T07:51:50.485819",
     "exception": false,
     "start_time": "2024-04-17T07:47:51.078527",
     "status": "completed"
    },
    "tags": []
   },
   "outputs": [
    {
     "data": {
      "text/plain": [
       "({'n_estimators': 50,\n",
       "  'learning_rate': 1.0,\n",
       "  'random_state': 13,\n",
       "  'recall': 0.990598236061787,\n",
       "  'f1': 0.9117713968181643,\n",
       "  'acc': 0.9919466403162055,\n",
       "  'roc': 0.9971727530037},\n",
       " {'n_estimators': 50,\n",
       "  'learning_rate': 0.25,\n",
       "  'random_state': 13,\n",
       "  'recall': 0.9901386942583322,\n",
       "  'f1': 0.9180642416626625,\n",
       "  'acc': 0.9925752086078173,\n",
       "  'roc': 0.9972223968747652},\n",
       " {'n_estimators': 50,\n",
       "  'learning_rate': 0.25,\n",
       "  'random_state': 13,\n",
       "  'recall': 0.9901386942583322,\n",
       "  'f1': 0.9180642416626625,\n",
       "  'acc': 0.9925752086078173,\n",
       "  'roc': 0.9972223968747652},\n",
       " {'n_estimators': 100,\n",
       "  'learning_rate': 0.25,\n",
       "  'random_state': 13,\n",
       "  'recall': 0.9904679003230396,\n",
       "  'f1': 0.9132171127705211,\n",
       "  'acc': 0.9920921168203778,\n",
       "  'roc': 0.9972270172552739})"
      ]
     },
     "execution_count": 17,
     "metadata": {},
     "output_type": "execute_result"
    }
   ],
   "source": [
    "adaboost_params = {\n",
    "    'p1': [50, 100, 200],\n",
    "    'p2': [0.25, 0.5, 1.0, 2],\n",
    "}\n",
    "\n",
    "param_optimizer(AdaBoostClassifier, adaboost_params, X_train, y_train)\n",
    "# This output shows the best parameters to use based on\n",
    "# specific metrics. Outputs are in this order: recall score,\n",
    "# f1 score, accuracy score, roc score."
   ]
  },
  {
   "cell_type": "markdown",
   "id": "c5d2c153",
   "metadata": {
    "papermill": {
     "duration": 0.022773,
     "end_time": "2024-04-17T07:51:50.531656",
     "exception": false,
     "start_time": "2024-04-17T07:51:50.508883",
     "status": "completed"
    },
    "tags": []
   },
   "source": [
    "### Naive Bayes Hyper-Parameterization"
   ]
  },
  {
   "cell_type": "code",
   "execution_count": 18,
   "id": "e62d483f",
   "metadata": {
    "execution": {
     "iopub.execute_input": "2024-04-17T07:51:50.580598Z",
     "iopub.status.busy": "2024-04-17T07:51:50.580072Z",
     "iopub.status.idle": "2024-04-17T07:52:09.707456Z",
     "shell.execute_reply": "2024-04-17T07:52:09.706316Z"
    },
    "papermill": {
     "duration": 19.154826,
     "end_time": "2024-04-17T07:52:09.709916",
     "exception": false,
     "start_time": "2024-04-17T07:51:50.555090",
     "status": "completed"
    },
    "tags": []
   },
   "outputs": [
    {
     "data": {
      "text/plain": [
       "({'alpha': 0.001,\n",
       "  'fit_prior': True,\n",
       "  'recall': 0.9956377373076993,\n",
       "  'f1': 0.7598665978725144,\n",
       "  'acc': 0.973564448836188,\n",
       "  'roc': 0.9961826147453096},\n",
       " {'alpha': 0.001,\n",
       "  'fit_prior': True,\n",
       "  'recall': 0.9956377373076993,\n",
       "  'f1': 0.7598665978725144,\n",
       "  'acc': 0.973564448836188,\n",
       "  'roc': 0.9961826147453096},\n",
       " {'alpha': 0.001,\n",
       "  'fit_prior': True,\n",
       "  'recall': 0.9956377373076993,\n",
       "  'f1': 0.7598665978725144,\n",
       "  'acc': 0.973564448836188,\n",
       "  'roc': 0.9961826147453096},\n",
       " {'alpha': 0.001,\n",
       "  'fit_prior': True,\n",
       "  'recall': 0.9956377373076993,\n",
       "  'f1': 0.7598665978725144,\n",
       "  'acc': 0.973564448836188,\n",
       "  'roc': 0.9961826147453096})"
      ]
     },
     "execution_count": 18,
     "metadata": {},
     "output_type": "execute_result"
    }
   ],
   "source": [
    "nb_params = {\n",
    "    'p1': [0.001, 0.05, 0.1, 0.5, 1],\n",
    "    'p2': [True, False]\n",
    "}\n",
    "\n",
    "param_optimizer(BernoulliNB, nb_params, X_train, y_train)\n",
    "# This output shows the best parameters to use based on\n",
    "# specific metrics. Outputs are in this order: recall score,\n",
    "# f1 score, accuracy score, roc score."
   ]
  },
  {
   "cell_type": "markdown",
   "id": "388b34ff",
   "metadata": {
    "papermill": {
     "duration": 0.0163,
     "end_time": "2024-04-17T07:52:09.743000",
     "exception": false,
     "start_time": "2024-04-17T07:52:09.726700",
     "status": "completed"
    },
    "tags": []
   },
   "source": [
    "# Testing on original dataset"
   ]
  },
  {
   "cell_type": "code",
   "execution_count": 19,
   "id": "f2121378",
   "metadata": {
    "execution": {
     "iopub.execute_input": "2024-04-17T07:52:09.778010Z",
     "iopub.status.busy": "2024-04-17T07:52:09.777577Z",
     "iopub.status.idle": "2024-04-17T07:52:09.895676Z",
     "shell.execute_reply": "2024-04-17T07:52:09.894744Z"
    },
    "papermill": {
     "duration": 0.13881,
     "end_time": "2024-04-17T07:52:09.898372",
     "exception": false,
     "start_time": "2024-04-17T07:52:09.759562",
     "status": "completed"
    },
    "tags": []
   },
   "outputs": [],
   "source": [
    "#Undersample training set\n",
    "\n",
    "class_count = np.count_nonzero(y_train == 1) \n",
    "        \n",
    "sampling_strategy = {0:class_count, 1:class_count}\n",
    "\n",
    "rus = RandomUnderSampler(sampling_strategy=sampling_strategy, random_state=42)\n",
    "\n",
    "X_train_undersample, y_train_undersample = rus.fit_resample(X_train, y_train)"
   ]
  },
  {
   "cell_type": "markdown",
   "id": "df2ac693",
   "metadata": {
    "papermill": {
     "duration": 0.016452,
     "end_time": "2024-04-17T07:52:09.931977",
     "exception": false,
     "start_time": "2024-04-17T07:52:09.915525",
     "status": "completed"
    },
    "tags": []
   },
   "source": [
    "### RandomForest"
   ]
  },
  {
   "cell_type": "code",
   "execution_count": 20,
   "id": "8e3b2c39",
   "metadata": {
    "execution": {
     "iopub.execute_input": "2024-04-17T07:52:09.967098Z",
     "iopub.status.busy": "2024-04-17T07:52:09.966678Z",
     "iopub.status.idle": "2024-04-17T07:52:12.325737Z",
     "shell.execute_reply": "2024-04-17T07:52:12.324541Z"
    },
    "papermill": {
     "duration": 2.379517,
     "end_time": "2024-04-17T07:52:12.328157",
     "exception": false,
     "start_time": "2024-04-17T07:52:09.948640",
     "status": "completed"
    },
    "tags": []
   },
   "outputs": [
    {
     "name": "stdout",
     "output_type": "stream",
     "text": [
      "RANDOMFOREST SCORES:\n",
      "\tAccuracy: 0.9901\n",
      "\tF-1: 0.8925\n",
      "\tRecall: 0.9923\n",
      "\tRoc: 0.9972\n",
      "\n",
      "\n"
     ]
    },
    {
     "data": {
      "image/png": "[encoded data removed]",
      "text/plain": [
       "<Figure size 640x480 with 2 Axes>"
      ]
     },
     "metadata": {},
     "output_type": "display_data"
    }
   ],
   "source": [
    "rf = RandomForestClassifier(n_estimators = 100, max_depth = 6, random_state = 13)\n",
    "\n",
    "rf.fit(X_train_undersample, y_train_undersample)\n",
    "\n",
    "rf_pred = rf.predict(X_test)\n",
    "rf_pred_proba = rf.predict_proba(X_test)[:,1]\n",
    "\n",
    "acc = accuracy_score(y_test, rf_pred)\n",
    "f1 = f1_score(y_test, rf_pred)\n",
    "recall = recall_score(y_test, rf_pred)\n",
    "roc = roc_auc_score(y_test, rf_pred_proba)\n",
    "cm = confusion_matrix(y_test, rf_pred)\n",
    "\n",
    "print(f'RANDOMFOREST SCORES:\\n'\n",
    "      f'\\tAccuracy: {acc:0.4f}\\n'\n",
    "      f'\\tF-1: {f1:0.4f}\\n'\n",
    "      f'\\tRecall: {recall:0.4f}\\n'\n",
    "      f'\\tRoc: {roc:0.4f}\\n\\n')\n",
    "\n",
    "disp = ConfusionMatrixDisplay(confusion_matrix=cm, display_labels=rf.classes_)\n",
    "disp.plot(cmap='Blues',)\n",
    "plt.title(\"RandomForest Confusion Matrix\")\n",
    "plt.show()"
   ]
  },
  {
   "cell_type": "markdown",
   "id": "267c05f2",
   "metadata": {
    "papermill": {
     "duration": 0.0171,
     "end_time": "2024-04-17T07:52:12.362666",
     "exception": false,
     "start_time": "2024-04-17T07:52:12.345566",
     "status": "completed"
    },
    "tags": []
   },
   "source": [
    "### AdaBoost"
   ]
  },
  {
   "cell_type": "code",
   "execution_count": 21,
   "id": "96963526",
   "metadata": {
    "execution": {
     "iopub.execute_input": "2024-04-17T07:52:12.400130Z",
     "iopub.status.busy": "2024-04-17T07:52:12.399232Z",
     "iopub.status.idle": "2024-04-17T07:52:14.823380Z",
     "shell.execute_reply": "2024-04-17T07:52:14.822321Z"
    },
    "papermill": {
     "duration": 2.445987,
     "end_time": "2024-04-17T07:52:14.826058",
     "exception": false,
     "start_time": "2024-04-17T07:52:12.380071",
     "status": "completed"
    },
    "tags": []
   },
   "outputs": [
    {
     "name": "stdout",
     "output_type": "stream",
     "text": [
      "ADABOOST SCORES:\n",
      "\tAccuracy: 0.9929\n",
      "\tF-1: 0.9205\n",
      "\tRecall: 0.9894\n",
      "\tRoc: 0.9973\n",
      "\n",
      "\n"
     ]
    },
    {
     "data": {
      "image/png": "[encoded data removed]",
      "text/plain": [
       "<Figure size 640x480 with 2 Axes>"
      ]
     },
     "metadata": {},
     "output_type": "display_data"
    }
   ],
   "source": [
    "ada = AdaBoostClassifier(n_estimators = 50, learning_rate = 0.25, random_state = 13)\n",
    "\n",
    "ada.fit(X_train_undersample, y_train_undersample)\n",
    "\n",
    "ada_pred = ada.predict(X_test)\n",
    "ada_pred_proba = ada.predict_proba(X_test)[:,1]\n",
    "\n",
    "acc = accuracy_score(y_test, ada_pred)\n",
    "f1 = f1_score(y_test, ada_pred)\n",
    "recall = recall_score(y_test, ada_pred)\n",
    "roc = roc_auc_score(y_test, ada_pred_proba)\n",
    "cm = confusion_matrix(y_test, ada_pred)\n",
    "\n",
    "print(f'ADABOOST SCORES:\\n'\n",
    "      f'\\tAccuracy: {acc:0.4f}\\n'\n",
    "      f'\\tF-1: {f1:0.4f}\\n'\n",
    "      f'\\tRecall: {recall:0.4f}\\n'\n",
    "      f'\\tRoc: {roc:0.4f}\\n\\n')\n",
    "\n",
    "disp = ConfusionMatrixDisplay(confusion_matrix=cm, display_labels=ada.classes_)\n",
    "disp.plot(cmap='Blues',)\n",
    "plt.title(\"AdaBoost Confusion Matrix\")\n",
    "plt.show()"
   ]
  },
  {
   "cell_type": "markdown",
   "id": "3df5f5fc",
   "metadata": {
    "papermill": {
     "duration": 0.017623,
     "end_time": "2024-04-17T07:52:14.862705",
     "exception": false,
     "start_time": "2024-04-17T07:52:14.845082",
     "status": "completed"
    },
    "tags": []
   },
   "source": [
    "### LogisticRegression"
   ]
  },
  {
   "cell_type": "code",
   "execution_count": 22,
   "id": "d6a03659",
   "metadata": {
    "execution": {
     "iopub.execute_input": "2024-04-17T07:52:14.902306Z",
     "iopub.status.busy": "2024-04-17T07:52:14.901858Z",
     "iopub.status.idle": "2024-04-17T07:52:15.699853Z",
     "shell.execute_reply": "2024-04-17T07:52:15.698572Z"
    },
    "papermill": {
     "duration": 0.821962,
     "end_time": "2024-04-17T07:52:15.702671",
     "exception": false,
     "start_time": "2024-04-17T07:52:14.880709",
     "status": "completed"
    },
    "tags": []
   },
   "outputs": [
    {
     "name": "stdout",
     "output_type": "stream",
     "text": [
      "LOGISTICREGRESSION SCORES:\n",
      "\tAccuracy: 0.9921\n",
      "\tF-1: 0.9123\n",
      "\tRecall: 0.9902\n",
      "\tRoc: 0.9973\n",
      "\n",
      "\n"
     ]
    },
    {
     "data": {
      "image/png": "[encoded data removed]",
      "text/plain": [
       "<Figure size 640x480 with 2 Axes>"
      ]
     },
     "metadata": {},
     "output_type": "display_data"
    }
   ],
   "source": [
    "from sklearn.linear_model import LogisticRegression\n",
    "\n",
    "lr = LogisticRegression()\n",
    "lr.fit(X_train_undersample, y_train_undersample)\n",
    "\n",
    "lr_pred = lr.predict(X_test)\n",
    "lr_pred_prob = lr.predict_proba(X_test)[:,1]\n",
    "\n",
    "acc = accuracy_score(y_test, lr_pred)\n",
    "f1 = f1_score(y_test, lr_pred)\n",
    "recall = recall_score(y_test, lr_pred)\n",
    "roc = roc_auc_score(y_test, lr_pred_prob)\n",
    "cm = confusion_matrix(y_test, lr_pred)\n",
    "\n",
    "print(f'LOGISTICREGRESSION SCORES:\\n'\n",
    "      f'\\tAccuracy: {acc:0.4f}\\n'\n",
    "      f'\\tF-1: {f1:0.4f}\\n'\n",
    "      f'\\tRecall: {recall:0.4f}\\n'\n",
    "      f'\\tRoc: {roc:0.4f}\\n\\n')\n",
    "\n",
    "disp = ConfusionMatrixDisplay(confusion_matrix=cm, display_labels=lr.classes_)\n",
    "disp.plot(cmap='Blues',)\n",
    "plt.title(\"LogisticRegression Confusion Matrix\")\n",
    "plt.show()"
   ]
  },
  {
   "cell_type": "markdown",
   "id": "bc2492aa",
   "metadata": {
    "papermill": {
     "duration": 0.083998,
     "end_time": "2024-04-17T07:52:15.805566",
     "exception": false,
     "start_time": "2024-04-17T07:52:15.721568",
     "status": "completed"
    },
    "tags": []
   },
   "source": [
    "### NaiveBayes"
   ]
  },
  {
   "cell_type": "code",
   "execution_count": 23,
   "id": "fe63fdd8",
   "metadata": {
    "execution": {
     "iopub.execute_input": "2024-04-17T07:52:15.845818Z",
     "iopub.status.busy": "2024-04-17T07:52:15.845030Z",
     "iopub.status.idle": "2024-04-17T07:52:16.452405Z",
     "shell.execute_reply": "2024-04-17T07:52:16.451260Z"
    },
    "papermill": {
     "duration": 0.629838,
     "end_time": "2024-04-17T07:52:16.454751",
     "exception": false,
     "start_time": "2024-04-17T07:52:15.824913",
     "status": "completed"
    },
    "tags": []
   },
   "outputs": [
    {
     "name": "stdout",
     "output_type": "stream",
     "text": [
      "NAIVEBAYES SCORES:\n",
      "\tAccuracy: 0.9732\n",
      "\tF-1: 0.7553\n",
      "\tRecall: 0.9966\n",
      "\tRoc: 0.9963\n",
      "\n",
      "\n"
     ]
    },
    {
     "data": {
      "image/png": "[encoded data removed]",
      "text/plain": [
       "<Figure size 640x480 with 2 Axes>"
      ]
     },
     "metadata": {},
     "output_type": "display_data"
    }
   ],
   "source": [
    "nb = BernoulliNB(alpha=0.001)\n",
    "\n",
    "nb.fit(X_train_undersample, y_train_undersample)\n",
    "\n",
    "nb_pred = nb.predict(X_test)\n",
    "nb_pred_prob = nb.predict_proba(X_test)[:,1]\n",
    "\n",
    "acc = accuracy_score(y_test, nb_pred)\n",
    "f1 = f1_score(y_test, nb_pred)\n",
    "recall = recall_score(y_test, nb_pred)\n",
    "roc = roc_auc_score(y_test, nb_pred_prob)\n",
    "cm = confusion_matrix(y_test, nb_pred)\n",
    "\n",
    "print(f'NAIVEBAYES SCORES:\\n'\n",
    "      f'\\tAccuracy: {acc:0.4f}\\n'\n",
    "      f'\\tF-1: {f1:0.4f}\\n'\n",
    "      f'\\tRecall: {recall:0.4f}\\n'\n",
    "      f'\\tRoc: {roc:0.4f}\\n\\n')\n",
    "\n",
    "disp = ConfusionMatrixDisplay(confusion_matrix=cm, display_labels=nb.classes_)\n",
    "disp.plot(cmap='Blues',)\n",
    "plt.title(\"NaiveBayes Confusion Matrix\")\n",
    "plt.show()"
   ]
  }
 ],
 "metadata": {
  "kaggle": {
   "accelerator": "none",
   "dataSources": [
    {
     "datasetId": 29513,
     "sourceId": 37624,
     "sourceType": "datasetVersion"
    },
    {
     "datasetId": 4682531,
     "sourceId": 7960105,
     "sourceType": "datasetVersion"
    }
   ],
   "dockerImageVersionId": 30673,
   "isGpuEnabled": false,
   "isInternetEnabled": true,
   "language": "python",
   "sourceType": "notebook"
  },
  "kernelspec": {
   "display_name": "Python 3",
   "language": "python",
   "name": "python3"
  },
  "language_info": {
   "codemirror_mode": {
    "name": "ipython",
    "version": 3
   },
   "file_extension": ".py",
   "mimetype": "text/x-python",
   "name": "python",
   "nbconvert_exporter": "python",
   "pygments_lexer": "ipython3",
   "version": "3.10.13"
  },
  "papermill": {
   "default_parameters": {},
   "duration": 411.292366,
   "end_time": "2024-04-17T07:52:17.197658",
   "environment_variables": {},
   "exception": null,
   "input_path": "__notebook__.ipynb",
   "output_path": "__notebook__.ipynb",
   "parameters": {},
   "start_time": "2024-04-17T07:45:25.905292",
   "version": "2.5.0"
  }
 },
 "nbformat": 4,
 "nbformat_minor": 5
}
